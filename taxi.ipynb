{
 "cells": [
  {
   "cell_type": "code",
   "execution_count": 2,
   "metadata": {},
   "outputs": [
    {
     "name": "stdout",
     "output_type": "stream",
     "text": [
      "VendorID                 float64\n",
      "lpep_pickup_datetime      object\n",
      "lpep_dropoff_datetime     object\n",
      "store_and_fwd_flag        object\n",
      "RatecodeID               float64\n",
      "PULocationID               int64\n",
      "DOLocationID               int64\n",
      "passenger_count          float64\n",
      "trip_distance            float64\n",
      "fare_amount              float64\n",
      "extra                    float64\n",
      "mta_tax                  float64\n",
      "tip_amount               float64\n",
      "tolls_amount             float64\n",
      "ehail_fee                float64\n",
      "improvement_surcharge    float64\n",
      "total_amount             float64\n",
      "payment_type             float64\n",
      "trip_type                float64\n",
      "congestion_surcharge     float64\n",
      "dtype: object\n",
      "Mean Squared Error: 297.67846706256523\n",
      "R-squared: 0.000575697759449989\n"
     ]
    }
   ],
   "source": [
    "import pandas as pd\n",
    "from sklearn.model_selection import train_test_split\n",
    "from sklearn.linear_model import LinearRegression\n",
    "from sklearn.metrics import mean_squared_error\n",
    "\n",
    "# Load the data (make sure to provide the correct path to the CSV file)\n",
    "df = pd.read_csv('TaxiData.csv', low_memory=False)\n",
    "\n",
    "print(df.dtypes)\n",
    "# Assuming 'trip_distance' and 'total_amount' are the features and target in your Taxi dataset\n",
    "# Based on your screenshots, these columns are named 'trip_distance' and 'total_amount'\n",
    "# You should adjust the column names if they are different in your CSV file\n",
    "X = df[['trip_distance']]  # Include other features if necessary\n",
    "y = df['total_amount']     # The target variable\n",
    "\n",
    "# Split the data into training and testing sets\n",
    "X_train, X_test, y_train, y_test = train_test_split(X, y, test_size=0.2, random_state=42)\n",
    "\n",
    "# Create and train a Linear Regression model\n",
    "model = LinearRegression()\n",
    "model.fit(X_train, y_train)\n",
    "\n",
    "# Predict on the testing data\n",
    "y_pred = model.predict(X_test)\n",
    "\n",
    "# Calculate the MSE\n",
    "mse = mean_squared_error(y_test, y_pred)\n",
    "print(f'Mean Squared Error: {mse}')\n",
    "\n",
    "# Print R-squared\n",
    "r_squared = model.score(X_test, y_test)\n",
    "print(f\"R-squared: {r_squared}\")\n"
   ]
  }
 ],
 "metadata": {
  "kernelspec": {
   "display_name": "Python 3 (ipykernel)",
   "language": "python",
   "name": "python3"
  },
  "language_info": {
   "codemirror_mode": {
    "name": "ipython",
    "version": 3
   },
   "file_extension": ".py",
   "mimetype": "text/x-python",
   "name": "python",
   "nbconvert_exporter": "python",
   "pygments_lexer": "ipython3",
   "version": "3.10.12"
  }
 },
 "nbformat": 4,
 "nbformat_minor": 4
}
